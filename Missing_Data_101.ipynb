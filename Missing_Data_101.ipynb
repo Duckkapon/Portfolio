{
  "cells": [
    {
      "cell_type": "markdown",
      "metadata": {
        "id": "view-in-github",
        "colab_type": "text"
      },
      "source": [
        "<a href=\"https://colab.research.google.com/github/Duckkapon/Portfolio/blob/main/Missing_Data_101.ipynb\" target=\"_parent\"><img src=\"https://colab.research.google.com/assets/colab-badge.svg\" alt=\"Open In Colab\"/></a>"
      ]
    },
    {
      "cell_type": "markdown",
      "source": [
        "# This notebook is prepared for writing articles about missing data"
      ],
      "metadata": {
        "id": "BPSJXpzyF4t5"
      }
    },
    {
      "cell_type": "markdown",
      "source": [
        "## Part 1 Understanding The Missing Data\n",
        "\n",
        "https://pakkapontontiwich.wordpress.com/2023/12/04/missing-data-101-part-1-understanding-the-missing-data/"
      ],
      "metadata": {
        "id": "asWGn6WOFEn4"
      }
    },
    {
      "cell_type": "code",
      "source": [
        "#############################\n",
        "##### 1. Import library #####\n",
        "#############################\n",
        "import numpy as np\n",
        "import pandas as pd\n",
        "import random\n",
        "\n",
        "######################################################\n",
        "##### 2. Generating sample data with 3 variables #####\n",
        "######################################################\n",
        "nPop = 100000\n",
        "mu = np.array([1, 2, 3])\n",
        "cov = np.array([\n",
        "                [3.5, 2.7, 2.7],\n",
        "                [2.7, 3.5, 2.7],\n",
        "                [2.7, 2.7, 3.5]\n",
        "                ])\n",
        "rng = np.random.default_rng()\n",
        "pop = rng.multivariate_normal(mu, cov, size = nPop)\n",
        "dfPop = pd.DataFrame(pop)\n",
        "\n",
        "print(dfPop.shape)\n",
        "print(dfPop.mean())\n",
        "print(dfPop.cov())"
      ],
      "metadata": {
        "id": "ON-hHO6D1wB4",
        "outputId": "08732085-8628-4a78-b82f-c8b97345d7db",
        "colab": {
          "base_uri": "https://localhost:8080/"
        }
      },
      "execution_count": null,
      "outputs": [
        {
          "output_type": "stream",
          "name": "stdout",
          "text": [
            "(100000, 3)\n",
            "0    1.002781\n",
            "1    2.007399\n",
            "2    3.001975\n",
            "dtype: float64\n",
            "          0         1         2\n",
            "0  3.513308  2.707447  2.702038\n",
            "1  2.707447  3.507702  2.701849\n",
            "2  2.702038  2.701849  3.502347\n"
          ]
        }
      ]
    },
    {
      "cell_type": "code",
      "source": [
        "idxPop = np.array([i for i in range(nPop)])\n",
        "\n",
        "#######################\n",
        "##### 3. Sampling #####\n",
        "#######################\n",
        "idxSam = np.random.choice(idxPop, size = 1000, replace = False)\n",
        "\n",
        "######################################\n",
        "##### 4. Simulate Missing Values #####\n",
        "######################################\n",
        "popVar0 = dfPop[0]\n",
        "popVar1 = dfPop[1]\n",
        "popVar2 = dfPop[2]\n",
        "popVar0_2SD = 2 * np.std(popVar0)\n",
        "\n",
        "sampVar0  = list()\n",
        "sampVar1 = list()\n",
        "sampVar2 = list()\n",
        "MNARPos = np.random.choice(idxPop, size = 10000, replace = False)\n",
        "\n",
        "for pos in idxSam :\n",
        "        # missing completely at random\n",
        "        if np.random.rand() < 0.05 :\n",
        "                sampVar0.append(np.nan)\n",
        "        else :\n",
        "                sampVar0.append(popVar0[pos])\n",
        "\n",
        "        # missing at random\n",
        "        if popVar0[pos] > popVar0_2SD :\n",
        "                sampVar1.append(np.nan)\n",
        "        else :\n",
        "                sampVar1.append(popVar1[pos])\n",
        "\n",
        "        # missing not at random\n",
        "        if pos in MNARPos :\n",
        "                sampVar2.append(np.nan)\n",
        "        else :\n",
        "                sampVar2.append(popVar2[pos])\n",
        "\n",
        "dfMissEx =  pd.DataFrame(list(zip(sampVar0, sampVar1, sampVar2)))"
      ],
      "metadata": {
        "id": "h_OO3728D7Hd"
      },
      "execution_count": null,
      "outputs": []
    },
    {
      "cell_type": "code",
      "source": [
        "##########################################\n",
        "##### 5. Display correlation metrix ######\n",
        "##########################################\n",
        "print(f\"correlation Missing Value : \\n{dfMissEx.corr()}\\n\")\n",
        "\n",
        "print(f\"correlation Drop Missing Value : \\n{dfMissEx.dropna(axis=0).corr()}\\n\")\n"
      ],
      "metadata": {
        "id": "qWAcQs8GYH--",
        "outputId": "89ce7e11-3837-4b18-aeb7-d57203de7173",
        "colab": {
          "base_uri": "https://localhost:8080/"
        }
      },
      "execution_count": null,
      "outputs": [
        {
          "output_type": "stream",
          "name": "stdout",
          "text": [
            "correlation No Missing Value : \n",
            "          0         1         2\n",
            "0  1.000000  0.766122  0.754565\n",
            "1  0.766122  1.000000  0.759776\n",
            "2  0.754565  0.759776  1.000000\n",
            "\n",
            "correlation Missing Value : col 1 คือ missing at random, col 2 คือ missing not at random\n",
            "          0         1         2\n",
            "0  1.000000  0.738580  0.780748\n",
            "1  0.738580  1.000000  0.727593\n",
            "2  0.780748  0.727593  1.000000\n",
            "\n",
            "correlation Drop Missing Value : \n",
            "          0         1         2\n",
            "0  1.000000  0.733959  0.738369\n",
            "1  0.733959  1.000000  0.725394\n",
            "2  0.738369  0.725394  1.000000\n",
            "\n"
          ]
        }
      ]
    },
    {
      "cell_type": "code",
      "source": [
        "print(dfMissEx.shape)\n",
        "print(dfMissEx.mean())\n",
        "print(dfMissEx.cov())"
      ],
      "metadata": {
        "id": "6BtEvleY2oN_",
        "outputId": "74d6ffec-f213-41f3-f746-3c101ba0ea97",
        "colab": {
          "base_uri": "https://localhost:8080/"
        }
      },
      "execution_count": null,
      "outputs": [
        {
          "output_type": "stream",
          "name": "stdout",
          "text": [
            "(1000, 3)\n",
            "0    0.955806\n",
            "1    1.719180\n",
            "2    2.987532\n",
            "dtype: float64\n",
            "          0         1         2\n",
            "0  3.781158  2.236013  2.998325\n",
            "1  2.236013  3.089500  2.294771\n",
            "2  2.998325  2.294771  3.856279\n"
          ]
        }
      ]
    },
    {
      "cell_type": "code",
      "source": [],
      "metadata": {
        "id": "N5qw62s_D7EX"
      },
      "execution_count": null,
      "outputs": []
    },
    {
      "cell_type": "code",
      "source": [],
      "metadata": {
        "id": "x-lA9OSuD6-r"
      },
      "execution_count": null,
      "outputs": []
    },
    {
      "cell_type": "code",
      "source": [],
      "metadata": {
        "id": "11kMQAuID62H"
      },
      "execution_count": null,
      "outputs": []
    },
    {
      "cell_type": "markdown",
      "source": [
        "## Part 2 Imputation Methods"
      ],
      "metadata": {
        "id": "cImqWMg8FIqM"
      }
    },
    {
      "cell_type": "code",
      "source": [],
      "metadata": {
        "id": "iQlMOsC2FQY8"
      },
      "execution_count": null,
      "outputs": []
    }
  ],
  "metadata": {
    "colab": {
      "provenance": [],
      "include_colab_link": true
    },
    "kernelspec": {
      "display_name": "Python 3",
      "name": "python3"
    }
  },
  "nbformat": 4,
  "nbformat_minor": 0
}